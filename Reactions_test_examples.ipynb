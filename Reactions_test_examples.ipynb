{
 "cells": [
  {
   "cell_type": "code",
   "execution_count": null,
   "metadata": {},
   "outputs": [],
   "source": [
    "from reactions_manager import IsSynthesizable"
   ]
  },
  {
   "cell_type": "code",
   "execution_count": null,
   "metadata": {},
   "outputs": [],
   "source": [
    "from rdkit.Chem import MolFromSmiles"
   ]
  },
  {
   "cell_type": "markdown",
   "metadata": {},
   "source": [
    "### As described in the documentaion, there are two possible scenarios to use this module:\n",
    "### a) fragmentation of an existing single acyclic bond\n",
    "### b) formation of a new single acyclic bond"
   ]
  },
  {
   "cell_type": "markdown",
   "metadata": {},
   "source": [
    "### NOTE: In either of theses scenarios the class 'IsSynthesizable' should be initialized twice in an identical manner with the only exception of the swap argument which should be once set as True and once as False in order to check both sides of the query bond for atom environments matching a reaction (because the algorithm is agnostic of the order in which the connecting atoms are provided as input)"
   ]
  },
  {
   "cell_type": "markdown",
   "metadata": {},
   "source": [
    "### Bond fragmentation scenario"
   ]
  },
  {
   "cell_type": "code",
   "execution_count": null,
   "metadata": {},
   "outputs": [],
   "source": [
    "mol_1 = MolFromSmiles(\"CNC(=O)NC\") # amide / thioamide\n",
    "mol_2 = MolFromSmiles(\"CC#CC=C\") # sonogashira\n",
    "mol_3 = MolFromSmiles(\"c1ccccc1C=Cc1ncccc1\") # stille\n",
    "mol_4 = MolFromSmiles(\"CC(=O)CC\") # grignard carbonyl\n",
    "mol_5 = MolFromSmiles(\"CC(C)(O)CC\") # grignard alcohol\n",
    "mol_6 = MolFromSmiles(\"C(C)N(C(=O)C)C(=O)C\") # imide\n",
    "mol_7 = MolFromSmiles(\"CC(C)N(C)S(=O)(=O)C\") # sulfonamide (both S-N and C-N)\n",
    "mol_8 = MolFromSmiles(\"CC(C)SC\") # ether / thioether\n",
    "mol_9 = MolFromSmiles(\"CCN(C)C\") # amine\n",
    "mol_10 = MolFromSmiles(\"c12ccc(C)cc1cc(C)n2C1=CCNCC1\") # aliphatic C - aromatic N\n",
    "mol_11 = MolFromSmiles(\"CC(=O)OC\") # ester / thioester\n",
    "mol_12 = MolFromSmiles(\"CCCC\") # negishi\n",
    "mol_13 = MolFromSmiles(\"N1(c2ccccc2)C=NC=C1\") # aroN-aroC\n",
    "mol_14 = MolFromSmiles(\"OC(=O)C(C)=C(C)c2ccccc2\") # heck\n",
    "mol_15 = MolFromSmiles(\"C1C(=O)N(C1)CC\") # lactam\n",
    "mol_16 = MolFromSmiles(\"CCSSCC\") # disulfide\n",
    "mol_17 = MolFromSmiles(\"c1ccccc1c2ccncc2\") # suzuki\n",
    "mol = mol_17"
   ]
  },
  {
   "cell_type": "code",
   "execution_count": null,
   "metadata": {},
   "outputs": [],
   "source": [
    "# DETECT ANY OF THE 21 PRE-DEFINED REACTIONS\n",
    "for bond in mol.GetBonds():\n",
    "    left_atom = bond.GetBeginAtom()\n",
    "    right_atom = bond.GetEndAtom()\n",
    "    synth1 = IsSynthesizable(mol, mol, left_atom, right_atom, swap=False, track_reactions=True, debug=False)\n",
    "    synth2 = IsSynthesizable(mol, mol, left_atom, right_atom, swap=True, track_reactions=True, debug=False)\n",
    "    print (\"Bond idx\", bond.GetIdx(), \"Unswapped:\", synth1.detect())\n",
    "    print (\"Bond idx\", bond.GetIdx(), \"Swapped:\", synth2.detect())"
   ]
  },
  {
   "cell_type": "code",
   "execution_count": null,
   "metadata": {},
   "outputs": [],
   "source": [
    "# DETECT ONLY A SPECIFIC REACTION FOR A CERTAIN BOND (e.g. grignard carbonyl and grignard alcohol)\n",
    "ketone = MolFromSmiles(\"c1ccccc1C(=O)CC\")\n",
    "for b in ketone.GetBonds():\n",
    "    begin = b.GetBeginAtom()\n",
    "    end = b.GetEndAtom()\n",
    "    k = IsSynthesizable(ketone, ketone, begin, end, swap=False)\n",
    "    print(\"Bond idx\", b.GetIdx(), \"-->\", \"Grignard carbonyl:\", k.grignard_carbonyl(), \"###\", \"Grignard alcohol:\", k.grignard_alcohol())"
   ]
  },
  {
   "cell_type": "markdown",
   "metadata": {},
   "source": [
    "### Bond formation scenario"
   ]
  },
  {
   "cell_type": "code",
   "execution_count": null,
   "metadata": {},
   "outputs": [],
   "source": [
    "def get_next_to_r(molecule):\n",
    "    for a in molecule.GetAtoms():\n",
    "        if a.GetAtomicNum() == 0:\n",
    "            for i, n in enumerate(a.GetNeighbors()):\n",
    "                if i > 0:\n",
    "                    raise ValueError\n",
    "                return n"
   ]
  },
  {
   "cell_type": "code",
   "execution_count": null,
   "metadata": {},
   "outputs": [],
   "source": [
    "mol_frag1 = MolFromSmiles(\"[1*]CC1=NCCN1\")\n",
    "mol_frag2 = MolFromSmiles(\"[1*]N(C)CC(=O)O\")\n",
    "#mol_frag3 = MolFromSmiles(\"[1*]c1nnc(o1)S\")\n",
    "\n",
    "atom_to_connect_1 = get_next_to_r(mol_frag1)\n",
    "atom_to_connect_2 = get_next_to_r(mol_frag2)"
   ]
  },
  {
   "cell_type": "code",
   "execution_count": null,
   "metadata": {},
   "outputs": [],
   "source": [
    "# Bond formation between the two molecules permitted \n",
    "unswapped = IsSynthesizable(mol_frag1, mol_frag2, atom_to_connect_1, atom_to_connect_2, track_reactions=True, swap=False, debug=True).detect()\n",
    "# Bond formation between the two molecules not permitted\n",
    "swapped = IsSynthesizable(mol_frag1, mol_frag2, atom_to_connect_1, atom_to_connect_2, track_reactions=True, swap=True, debug=True).detect()"
   ]
  },
  {
   "cell_type": "code",
   "execution_count": null,
   "metadata": {},
   "outputs": [],
   "source": [
    "unswapped, swapped"
   ]
  },
  {
   "cell_type": "code",
   "execution_count": null,
   "metadata": {},
   "outputs": [],
   "source": []
  }
 ],
 "metadata": {
  "kernelspec": {
   "display_name": "Python 3",
   "language": "python",
   "name": "python3"
  },
  "language_info": {
   "codemirror_mode": {
    "name": "ipython",
    "version": 3
   },
   "file_extension": ".py",
   "mimetype": "text/x-python",
   "name": "python",
   "nbconvert_exporter": "python",
   "pygments_lexer": "ipython3",
   "version": "3.7.1"
  }
 },
 "nbformat": 4,
 "nbformat_minor": 4
}
